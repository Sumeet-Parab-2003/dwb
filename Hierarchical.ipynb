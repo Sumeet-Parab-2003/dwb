{
 "cells": [
  {
   "cell_type": "code",
   "execution_count": null,
   "metadata": {},
   "outputs": [],
   "source": [
    "import numpy as np\n",
    "import matplotlib.pyplot as plt\n",
    "\n",
    "x = [18, 22, 25, 27, 42, 43]\n",
    "y = [18, 22, 25, 27, 42, 43]\n",
    "\n",
    "plt.scatter(x, y)\n",
    "plt.show()"
   ]
  },
  {
   "cell_type": "code",
   "execution_count": null,
   "metadata": {},
   "outputs": [],
   "source": [
    "from sklearn.cluster import AgglomerativeClustering\n",
    "x = [18, 22, 25, 27, 42, 43]\n",
    "y = [18, 22, 25, 27, 42, 43]\n",
    "data=list(zip(x,y))\n",
    "\n",
    "HC=AgglomerativeClustering(n_clusters=2,affinity='euclidean',linkage='single')\n",
    "label =HC.fit_predict(data)\n",
    "\n",
    "plt.scatter(x,y,c=label)\n",
    "plt.show()"
   ]
  },
  {
   "cell_type": "code",
   "execution_count": null,
   "metadata": {},
   "outputs": [],
   "source": [
    "from scipy.cluster.hierarchy import dendrogram, linkage\n",
    "\n",
    "x = [18, 22, 25, 27, 42, 43]\n",
    "y = [18, 22, 25, 27, 42, 43]\n",
    "data = list(zip(x, y))\n",
    "\n",
    "linkage_data = linkage(data, method='ward', metric='euclidean')\n",
    "x_labels = [str(point) for point in data]\n",
    "\n",
    "dendrogram(linkage_data, labels=x_labels)\n",
    "plt.show()"
   ]
  }
 ],
 "metadata": {
  "kernelspec": {
   "display_name": "Python 3",
   "language": "python",
   "name": "python3"
  },
  "language_info": {
   "codemirror_mode": {
    "name": "ipython",
    "version": 3
   },
   "file_extension": ".py",
   "mimetype": "text/x-python",
   "name": "python",
   "nbconvert_exporter": "python",
   "pygments_lexer": "ipython3",
   "version": "3.11.6"
  }
 },
 "nbformat": 4,
 "nbformat_minor": 2
}
