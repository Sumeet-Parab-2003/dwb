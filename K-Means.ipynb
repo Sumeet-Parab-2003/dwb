{
 "cells": [
  {
   "cell_type": "code",
   "execution_count": null,
   "metadata": {},
   "outputs": [],
   "source": [
    "def main():\n",
    "    k0 = [0] * 10\n",
    "    k1 = []\n",
    "    k2 = []\n",
    "\n",
    "    nums = int(input(\"How Many Numbers you want to enter: \"))\n",
    "\n",
    "    for i in range(nums):\n",
    "        k0[i] = int(input(f\"Enter number {i + 1}:\"))\n",
    "\n",
    "    num_clusters = 2\n",
    "    ml = int(input(\"\\nEnter initial mean 1:\"))\n",
    "    m2 = int(input(\"Enter initial mean 2:\"))\n",
    "\n",
    "    threshold = 0.0001  # Set your threshold value here\n",
    "\n",
    "    while True:\n",
    "        k1.clear()\n",
    "        k2.clear()\n",
    "\n",
    "        for il in range(nums):\n",
    "            tl = abs(k0[il] - ml)\n",
    "            t2 = abs(k0[il] - m2)\n",
    "\n",
    "            if tl < t2:\n",
    "                if k0[il] != 0:  # Skip appending zeros\n",
    "                    k1.append(k0[il])\n",
    "            else:\n",
    "                if k0[il] != 0:  # Skip appending zeros\n",
    "                    k2.append(k0[il])\n",
    "\n",
    "        ml_new = sum(k1) / len(k1) if k1 else 0\n",
    "        m2_new = sum(k2) / len(k2) if k2 else 0\n",
    "\n",
    "        print(\"\\nCluster 1:\", k1)\n",
    "        print(\"Mean 1:\", ml)\n",
    "        print(\"\\nCluster 2:\", k2)\n",
    "        print(\"Mean 2:\", m2)\n",
    "        print(\"\\n----\")\n",
    "\n",
    "        if abs(ml_new - ml) < threshold and abs(m2_new - m2) < threshold:\n",
    "            break\n",
    "\n",
    "        ml = ml_new\n",
    "        m2 = m2_new\n",
    "\n",
    "    print(\"\\nClusters created\")\n",
    "\n",
    "\n",
    "if __name__ == \"__main__\":\n",
    "    main()\n"
   ]
  }
 ],
 "metadata": {
  "kernelspec": {
   "display_name": "Python 3",
   "language": "python",
   "name": "python3"
  },
  "language_info": {
   "codemirror_mode": {
    "name": "ipython",
    "version": 3
   },
   "file_extension": ".py",
   "mimetype": "text/x-python",
   "name": "python",
   "nbconvert_exporter": "python",
   "pygments_lexer": "ipython3",
   "version": "3.11.6"
  }
 },
 "nbformat": 4,
 "nbformat_minor": 2
}
